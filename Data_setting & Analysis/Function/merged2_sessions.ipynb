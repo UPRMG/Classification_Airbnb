{
 "cells": [
  {
   "cell_type": "markdown",
   "metadata": {},
   "source": [
    "### Import"
   ]
  },
  {
   "cell_type": "code",
   "execution_count": 2,
   "metadata": {},
   "outputs": [],
   "source": [
    "import numpy as np\n",
    "import pandas as pd\n",
    "import xgboost\n",
    "import xgboost as xgb\n",
    "from xgboost.sklearn import XGBClassifier\n",
    "from sklearn.metrics import *\n",
    "from IPython.core.display import Image \n",
    "from sklearn.datasets import make_classification\n",
    "from sklearn.ensemble import ExtraTreesClassifier\n",
    "from sklearn.preprocessing import LabelEncoder\n",
    "from sklearn.model_selection import train_test_split\n",
    "from sklearn.tree import DecisionTreeClassifier\n",
    "from sklearn.metrics import confusion_matrix\n",
    "from sklearn.tree import export_graphviz\n",
    "import io\n",
    "from sklearn.preprocessing import Imputer\n",
    "import pydot\n",
    "from sklearn import preprocessing\n",
    "import lightgbm as lgb\n",
    "from scipy.stats import mode\n",
    "import re\n",
    "from datetime import datetime\n",
    "from lightgbm import plot_importance\n",
    "import warnings\n",
    "warnings.filterwarnings('ignore')"
   ]
  },
  {
   "cell_type": "markdown",
   "metadata": {},
   "source": [
    "---"
   ]
  },
  {
   "cell_type": "markdown",
   "metadata": {},
   "source": [
    "## Sessions"
   ]
  },
  {
   "cell_type": "markdown",
   "metadata": {},
   "source": [
    "### Sessions (groupby mode + secs_elapsed setting)"
   ]
  },
  {
   "cell_type": "code",
   "execution_count": 3,
   "metadata": {},
   "outputs": [],
   "source": [
    "def make_merged_sessions():\n",
    "    \n",
    "    sessions = pd.read_csv(\"sessions.csv\")\n",
    "    \n",
    "    sessions[\"action\"] = sessions[\"action\"].fillna(\"show\")\n",
    "    sessions[\"action_type\"] = sessions[\"action_type\"].fillna(\"view\")\n",
    "    sessions[\"action_detail\"] = sessions[\"action_detail\"].fillna(\"view_search_results\")\n",
    "    \n",
    "    id_groupby = sessions.groupby(sessions[\"user_id\"]).agg(mode)\n",
    "    \n",
    "    device_type = []\n",
    "    action = []\n",
    "    action_type = []\n",
    "    action_detail = []\n",
    "    secs_elapsed = []\n",
    "\n",
    "    for i in range(len(id_groupby.index)):\n",
    "        device_type.append(id_groupby['device_type'][i][0])\n",
    "        action.append(id_groupby['action'][i][0])\n",
    "        action_type.append(id_groupby['action_type'][i][0])\n",
    "        action_detail.append(id_groupby['action_detail'][i][0])\n",
    "        secs_elapsed.append(id_groupby['secs_elapsed'][i][0])\n",
    "    \n",
    "    id_groupby_df = pd.DataFrame({\"id\":id_groupby.index ,\n",
    "                                  \"device_type\":device_type ,\n",
    "                                  \"action\":action,\n",
    "                                  \"action_type\":action_type,\n",
    "                                  \"action_detail\":action_detail,\n",
    "                                  \"secs_elapsed\":secs_elapsed\n",
    "                                  })\n",
    "    \n",
    "    ses = pd.read_csv(\"sessions.csv\")\n",
    "    ses = ses.filter(items=('user_id', 'secs_elapsed'))\n",
    "    \n",
    "    ses_groupby_sum = ses.groupby(\"user_id\").agg(np.sum)\n",
    "    ses_groupby_mean = ses.groupby(\"user_id\").agg(np.mean)\n",
    "    \n",
    "    merge_ses_groupby = pd.merge(ses_groupby_sum, ses_groupby_mean, left_index=True, right_index=True, how=\"left\")\n",
    "    merge_ses_groupby = merge_ses_groupby.rename(columns={'secs_elapsed_x': 'secs_sum', 'secs_elapsed_y': 'secs_mean'})\n",
    "    \n",
    "    merged_sessions = pd.merge(id_groupby_df, merge_ses_groupby, left_on=\"id\", right_index=True, how=\"left\")\n",
    "    \n",
    "    merged_sessions['secs_elapsed'] = merged_sessions['secs_elapsed'].astype(float)\n",
    "    \n",
    "    merged_sessions['secs_mean'] = merged_sessions['secs_mean'].fillna(0)\n",
    "    \n",
    "    merged_sessions.to_csv(\"merged_sessions.csv\", index=False)\n",
    "    \n",
    "    return merged_sessions"
   ]
  },
  {
   "cell_type": "markdown",
   "metadata": {},
   "source": [
    "---"
   ]
  },
  {
   "cell_type": "markdown",
   "metadata": {},
   "source": [
    "### Sessions (remove word)"
   ]
  },
  {
   "cell_type": "code",
   "execution_count": 4,
   "metadata": {},
   "outputs": [],
   "source": [
    "def remove_word():\n",
    "    \n",
    "    merged_sessions = pd.read_csv(\"merged_sessions.csv\")\n",
    "\n",
    "    def remove(word):\n",
    "        word = re.sub(\"''\", \"\", word)\n",
    "        word = re.sub(\"\\W\", \"\", word)\n",
    "        return word\n",
    "\n",
    "    merged_sessions[\"action\"] = merged_sessions[\"action\"].apply(remove)\n",
    "    merged_sessions[\"action_detail\"] = merged_sessions[\"action_detail\"].apply(remove)\n",
    "    merged_sessions[\"action_type\"] = merged_sessions[\"action_type\"].apply(remove)\n",
    "    merged_sessions[\"device_type\"] = merged_sessions[\"device_type\"].apply(remove)\n",
    "\n",
    "\n",
    "    merged_sessions[\"action_detail\"] = merged_sessions[\"action_detail\"].replace({\"['-unknown-']\":\"unknown\"})\n",
    "    merged_sessions[\"action_type\"] = merged_sessions[\"action_type\"].replace({\"['-unknown-']\":\"unknown\"})\n",
    "    merged_sessions[\"device_type\"] = merged_sessions[\"device_type\"].replace({\"['-unknown-']\":\"unknown\", \\\n",
    "                                            \"['Android App Unknown Phone/Tablet']\": \"Androd_unkown_phone\"})\n",
    "\n",
    "    merged_sessions = merged_sessions.to_csv(\"merged_sessions.csv\", index=False)\n",
    "    \n",
    "    return merged_sessions"
   ]
  },
  {
   "cell_type": "markdown",
   "metadata": {},
   "source": [
    "---"
   ]
  },
  {
   "cell_type": "markdown",
   "metadata": {},
   "source": [
    "### Sessions (Action counts) - Last Session"
   ]
  },
  {
   "cell_type": "code",
   "execution_count": 5,
   "metadata": {},
   "outputs": [],
   "source": [
    "def sessions_detail_add():\n",
    "\n",
    "    merged_sessions = pd.read_csv(\"merged_sessions.csv\")\n",
    "    sessions = pd.read_csv(\"sessions.csv\")\n",
    "\n",
    "    tmp = sessions.groupby([\"user_id\", \"action_type\"])[\"device_type\"].count().unstack().fillna(0)\n",
    "    sessions_at = pd.DataFrame(tmp)\n",
    "    sessions_at.rename(columns = lambda x : \"type__\" + x, inplace = True)\n",
    "\n",
    "    tmp = sessions.groupby([\"user_id\", \"action\"])[\"device_type\"].count().unstack().fillna(0)\n",
    "    sessions_a = pd.DataFrame(tmp)\n",
    "    sessions_a.rename(columns = lambda x : \"action__\" + x, inplace = True)\n",
    "\n",
    "    tmp = sessions.groupby([\"user_id\", \"action_detail\"])[\"device_type\"].count().unstack().fillna(0)\n",
    "    sessions_ad = pd.DataFrame(tmp)\n",
    "    sessions_ad.rename(columns = lambda x : \"detail__\" + x, inplace = True)\n",
    "\n",
    "    df_session_info = sessions_at.merge(sessions_a, how = \"outer\", left_index = True, right_index = True)\n",
    "    df_session_info = df_session_info.merge(sessions_ad, how = \"left\", left_index = True, right_index = True)\n",
    "\n",
    "    df_session_info.drop([\"type__-unknown-\", \"detail__-unknown-\"], axis = 1, inplace = True)\n",
    "    df_session_info = df_session_info.fillna(0)\n",
    "\n",
    "    last_merged_sessions = pd.merge(merged_sessions, df_session_info, left_on='id', right_index=True, how='left')\n",
    "\n",
    "    merged_sessions = last_merged_sessions.to_csv(\"merged_sessions.csv\", index=False)\n",
    "\n",
    "    return merged_sessions"
   ]
  },
  {
   "cell_type": "markdown",
   "metadata": {},
   "source": [
    "---"
   ]
  },
  {
   "cell_type": "code",
   "execution_count": null,
   "metadata": {},
   "outputs": [],
   "source": []
  }
 ],
 "metadata": {
  "kernelspec": {
   "display_name": "Python 3",
   "language": "python",
   "name": "python3"
  },
  "language_info": {
   "codemirror_mode": {
    "name": "ipython",
    "version": 3
   },
   "file_extension": ".py",
   "mimetype": "text/x-python",
   "name": "python",
   "nbconvert_exporter": "python",
   "pygments_lexer": "ipython3",
   "version": "3.6.4"
  }
 },
 "nbformat": 4,
 "nbformat_minor": 2
}
