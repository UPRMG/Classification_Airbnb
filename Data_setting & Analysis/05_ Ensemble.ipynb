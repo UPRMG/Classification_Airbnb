{
 "cells": [
  {
   "cell_type": "code",
   "execution_count": null,
   "metadata": {},
   "outputs": [],
   "source": [
    "X = last_train_data.drop([\"id\", \"country_destination\"], axis=1)\n",
    "y = last_train_data[\"country_destination\"]\n",
    "x_new = last_test_data.drop([\"id\", \"country_destination\"], axis=1)\n",
    "\n",
    "model1 = XGBClassifier(nthread=3)\n",
    "model2 = ExtraTreesClassifier(n_estimators=250, random_state=0)\n",
    "model3 = LinearDiscriminantAnalysis(n_components=3, solver=\"svd\", store_covariance=True)\n",
    "ensemble = VotingClassifier(estimators=[('xg', model1), ('tree', model2), ('lda', model3)], \n",
    "                            voting='soft', weights=[1, 1, 2])\n",
    "\n",
    "probas = [c.fit(X, y).predict_proba(x_new) for c in (model1, model2, model3, ensemble)]\n",
    "class1_1 = [pr[0, 0] for pr in probas]\n",
    "class2_1 = [pr[0, 1] for pr in probas]\n",
    "\n",
    "\n",
    "ind = np.arange(4)\n",
    "width = 0.35  # bar width\n",
    "p1 = plt.bar(ind, np.hstack(([class1_1[:-1], [0]])), width, color='green')\n",
    "p2 = plt.bar(ind + width, np.hstack(([class2_1[:-1], [0]])), width, color='lightgreen')\n",
    "p3 = plt.bar(ind, [0, 0, 0, class1_1[-1]], width, color='blue')\n",
    "p4 = plt.bar(ind + width, [0, 0, 0, class2_1[-1]], width, color='steelblue')\n",
    "\n",
    "plt.xticks(ind + 0.5 * width, ['LogisticRegression\\nweight 1',\n",
    "                               'QDA\\nweight 1',\n",
    "                               'GaussianNB\\nweight 2',\n",
    "                               'VotingClassifier'])\n",
    "plt.ylim([0, 1.1])\n",
    "plt.title('Class probabilities for sample 1 by different classifiers')\n",
    "plt.legend([p1[0], p2[0]], ['class 1', 'class 2'], loc='upper left')\n",
    "plt.show()"
   ]
  },
  {
   "cell_type": "code",
   "execution_count": null,
   "metadata": {},
   "outputs": [],
   "source": [
    "pro_t = ensemble.predict_proba(last_test_data.drop([\"id\", \"country_destination\"], axis=1))\n",
    "\n",
    "ids = []  #list of ids\n",
    "cts = []  #list of countries\n",
    "for i in range(len(sample_submission_NDF)):\n",
    "    idx = sample_submission_NDF.iloc[i, 0]\n",
    "    ids += [idx] * 5\n",
    "    cts += le.inverse_transform(np.argsort(pro_t[i])[::-1])[:5].tolist()\n",
    "\n",
    "df_sample1 = pd.DataFrame(columns=['id', 'country'])\n",
    "df_sample1['id'] = ids\n",
    "df_sample1['country'] = cts\n",
    "df_sample1 = df_sample1.reset_index(drop=True)\n",
    "df_sample1.to_csv('lilil_t.csv', sep=',', na_rep='NaN', index = False)"
   ]
  },
  {
   "cell_type": "code",
   "execution_count": null,
   "metadata": {},
   "outputs": [],
   "source": []
  },
  {
   "cell_type": "code",
   "execution_count": null,
   "metadata": {},
   "outputs": [],
   "source": []
  },
  {
   "cell_type": "code",
   "execution_count": null,
   "metadata": {},
   "outputs": [],
   "source": []
  },
  {
   "cell_type": "code",
   "execution_count": null,
   "metadata": {},
   "outputs": [],
   "source": []
  },
  {
   "cell_type": "code",
   "execution_count": null,
   "metadata": {},
   "outputs": [],
   "source": []
  },
  {
   "cell_type": "code",
   "execution_count": null,
   "metadata": {},
   "outputs": [],
   "source": []
  }
 ],
 "metadata": {
  "kernelspec": {
   "display_name": "Python 3",
   "language": "python",
   "name": "python3"
  },
  "language_info": {
   "codemirror_mode": {
    "name": "ipython",
    "version": 3
   },
   "file_extension": ".py",
   "mimetype": "text/x-python",
   "name": "python",
   "nbconvert_exporter": "python",
   "pygments_lexer": "ipython3",
   "version": "3.6.4"
  }
 },
 "nbformat": 4,
 "nbformat_minor": 2
}
